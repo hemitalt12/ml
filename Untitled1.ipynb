{
 "cells": [
  {
   "cell_type": "markdown",
   "id": "9e8bc527",
   "metadata": {},
   "source": [
    "# Importing modules"
   ]
  },
  {
   "cell_type": "code",
   "execution_count": 3,
   "id": "c166129e",
   "metadata": {},
   "outputs": [],
   "source": [
    "import pandas as pd\n",
    "import numpy as np\n",
    "import matplotlib.pyplot as plt"
   ]
  },
  {
   "cell_type": "markdown",
   "id": "47fe1c16",
   "metadata": {},
   "source": [
    "# Linear Regression"
   ]
  },
  {
   "cell_type": "code",
   "execution_count": 20,
   "id": "fd190369",
   "metadata": {},
   "outputs": [],
   "source": [
    "def simpleLinearRegression(x,y,target):\n",
    "    # pearson R\n",
    "    x_bar = np.mean(x)\n",
    "    y_bar = np.mean(y)\n",
    "    x_sub = np.subtract(x,x_bar)\n",
    "    y_sub = np.subtract(y,y_bar)\n",
    "    mul = np.multiply(x_sub,y_sub)\n",
    "    total = sum(mul)\n",
    "\n",
    "    power = np.power(x_sub, 2)\n",
    "    x_power = sum(power)\n",
    "    power2 = np.power(y_sub, 2)\n",
    "    y_power = sum(power2)\n",
    "    mu = np.multiply(x_power,y_power)\n",
    "    total2 = np.sqrt(mu)\n",
    "\n",
    "    pearsonsR = np.divide(total,total2)\n",
    "\n",
    "    # variable (b)\n",
    "    number = len(y)\n",
    "    n = (number - 1)\n",
    "    statY = (y_power/n)\n",
    "    sY = np.sqrt(statY)\n",
    "    statX = (x_power/n)\n",
    "    sX = np.sqrt(statX)\n",
    "    s = (sY/sX)\n",
    "    b = (pearsonsR*s)\n",
    "\n",
    "    # variable (a)\n",
    "    a = (y_bar-b*x_bar)\n",
    "\n",
    "    \n",
    "    # predicting the data given\n",
    "    y = (a+b*target)\n",
    "    print(y)    "
   ]
  },
  {
   "cell_type": "code",
   "execution_count": 22,
   "id": "01b7ddee",
   "metadata": {},
   "outputs": [
    {
     "name": "stdout",
     "output_type": "stream",
     "text": [
      "49573.34484664467\n"
     ]
    }
   ],
   "source": [
    "data = pd.read_csv('homework.csv')\n",
    "year = data.year\n",
    "income = data.income \n",
    "simpleLinearRegression(year,income,2030)"
   ]
  },
  {
   "cell_type": "code",
   "execution_count": 340,
   "id": "ba441280",
   "metadata": {},
   "outputs": [
    {
     "data": {
      "text/plain": [
       "Text(0.5, 1.0, \"Canada's per income captia\")"
      ]
     },
     "execution_count": 340,
     "metadata": {},
     "output_type": "execute_result"
    },
    {
     "data": {
      "image/png": "[encoded data removed]",
      "text/plain": [
       "<Figure size 432x288 with 1 Axes>"
      ]
     },
     "metadata": {
      "needs_background": "light"
     },
     "output_type": "display_data"
    }
   ],
   "source": [
    "# plotting a scatter plot using matplotlib module!\n",
    "plt.scatter(x,y)\n",
    "plt.xlabel('years')\n",
    "plt.ylabel('income')\n",
    "plt.title(\"Canada's per income captia\")"
   ]
  },
  {
   "cell_type": "code",
   "execution_count": null,
   "id": "1102e631",
   "metadata": {},
   "outputs": [],
   "source": [
    "def descit"
   ]
  }
 ],
 "metadata": {
  "kernelspec": {
   "display_name": "Python 3",
   "language": "python",
   "name": "python3"
  },
  "language_info": {
   "codemirror_mode": {
    "name": "ipython",
    "version": 3
   },
   "file_extension": ".py",
   "mimetype": "text/x-python",
   "name": "python",
   "nbconvert_exporter": "python",
   "pygments_lexer": "ipython3",
   "version": "3.8.8"
  }
 },
 "nbformat": 4,
 "nbformat_minor": 5
}
